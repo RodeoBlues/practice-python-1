{
 "cells": [
  {
   "cell_type": "markdown",
   "metadata": {},
   "source": [
    "# String Permutation\n",
    "## Problem Statement\n",
    "Given a string, write a function that uses recursion to output a list of all the possible permutations of that string.\n",
    "\n",
    "For example, given s='abc' the function should return ['abc', 'acb', 'bac', 'bca', 'cab', 'cba']\n",
    "\n",
    "Note: If a character is repeated, treat each occurence as distinct, for example an input of 'xxx' would return a list with 6 \"versions\" of 'xxx'"
   ]
  },
  {
   "cell_type": "code",
   "execution_count": 22,
   "metadata": {
    "collapsed": false
   },
   "outputs": [],
   "source": [
    "def permute(s):\n",
    "\n",
    "    out = []\n",
    "    \n",
    "    # Base Case\n",
    "    if len(s) == 1:\n",
    "        out = [s]\n",
    "    else:\n",
    "        # Recursion\n",
    "        for i, letter in enumerate(s):\n",
    "            \n",
    "            for perm in permute(s[:i] + s[i + 1:]):\n",
    "                \n",
    "                print('current letter is', letter)\n",
    "                print('perm is', perm)\n",
    "                \n",
    "                out += [letter + perm]\n",
    "        \n",
    "    return out"
   ]
  },
  {
   "cell_type": "code",
   "execution_count": 23,
   "metadata": {
    "collapsed": false
   },
   "outputs": [
    {
     "name": "stdout",
     "output_type": "stream",
     "text": [
      "current letter is b\n",
      "perm is c\n",
      "current letter is c\n",
      "perm is b\n",
      "current letter is a\n",
      "perm is bc\n",
      "current letter is a\n",
      "perm is cb\n",
      "current letter is a\n",
      "perm is c\n",
      "current letter is c\n",
      "perm is a\n",
      "current letter is b\n",
      "perm is ac\n",
      "current letter is b\n",
      "perm is ca\n",
      "current letter is a\n",
      "perm is b\n",
      "current letter is b\n",
      "perm is a\n",
      "current letter is c\n",
      "perm is ab\n",
      "current letter is c\n",
      "perm is ba\n"
     ]
    },
    {
     "data": {
      "text/plain": [
       "['abc', 'acb', 'bac', 'bca', 'cab', 'cba']"
      ]
     },
     "execution_count": 23,
     "metadata": {},
     "output_type": "execute_result"
    }
   ],
   "source": [
    "permute('abc')"
   ]
  },
  {
   "cell_type": "code",
   "execution_count": null,
   "metadata": {
    "collapsed": true
   },
   "outputs": [],
   "source": []
  }
 ],
 "metadata": {
  "kernelspec": {
   "display_name": "Python [default]",
   "language": "python",
   "name": "python3"
  },
  "language_info": {
   "codemirror_mode": {
    "name": "ipython",
    "version": 3
   },
   "file_extension": ".py",
   "mimetype": "text/x-python",
   "name": "python",
   "nbconvert_exporter": "python",
   "pygments_lexer": "ipython3",
   "version": "3.5.2"
  }
 },
 "nbformat": 4,
 "nbformat_minor": 1
}
