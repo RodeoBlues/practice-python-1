{
 "cells": [
  {
   "cell_type": "code",
   "execution_count": 15,
   "metadata": {
    "collapsed": false
   },
   "outputs": [],
   "source": [
    "def unique_chars(s):\n",
    "    if len(s) <= 1:\n",
    "        return True\n",
    "    checker = 0\n",
    "    # Time complexity: O(n)\n",
    "    for letter in s:\n",
    "        val = ord(letter) - ord('a')\n",
    "        if (checker & (1 << val)) > 0:\n",
    "            return False\n",
    "        checker |= 1 << val\n",
    "    return True"
   ]
  },
  {
   "cell_type": "code",
   "execution_count": 16,
   "metadata": {
    "collapsed": false
   },
   "outputs": [
    {
     "name": "stdout",
     "output_type": "stream",
     "text": [
      "All test cases passed.\n"
     ]
    }
   ],
   "source": [
    "from nose.tools import assert_equal\n",
    "\n",
    "class TestUnique(object):\n",
    "    \n",
    "    def test(self, sol):\n",
    "        assert_equal(sol(''), True)\n",
    "        assert_equal(sol('goo'), False)\n",
    "        assert_equal(sol('abcdefg'), True)\n",
    "        print('All test cases passed.')\n",
    "        \n",
    "t = TestUnique()\n",
    "t.test(unique_chars)"
   ]
  },
  {
   "cell_type": "code",
   "execution_count": null,
   "metadata": {
    "collapsed": true
   },
   "outputs": [],
   "source": [
    "def unique_chars2(s):\n",
    "    # Space complexity: O(n)\n",
    "    chars = set()\n",
    "    \n",
    "    # Time complexity: O(n)\n",
    "    for letter in s:\n",
    "        if letter in chars:\n",
    "            return False\n",
    "        else:\n",
    "            chars.add(letter)\n",
    "    return True"
   ]
  }
 ],
 "metadata": {
  "kernelspec": {
   "display_name": "Python [default]",
   "language": "python",
   "name": "python3"
  },
  "language_info": {
   "codemirror_mode": {
    "name": "ipython",
    "version": 3
   },
   "file_extension": ".py",
   "mimetype": "text/x-python",
   "name": "python",
   "nbconvert_exporter": "python",
   "pygments_lexer": "ipython3",
   "version": "3.5.2"
  }
 },
 "nbformat": 4,
 "nbformat_minor": 1
}
