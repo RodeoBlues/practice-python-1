{
 "cells": [
  {
   "cell_type": "markdown",
   "metadata": {},
   "source": [
    "# Trim a Binary Search Tree\n",
    "## Problem Statement\n",
    "Given the root of a binary search tree and 2 numbers min and max, trim the tree such that all the numbers in the new tree are between min and max (inclusive). The resulting tree should still be a valid binary search tree. So, if we get this tree as input:"
   ]
  },
  {
   "cell_type": "code",
   "execution_count": 41,
   "metadata": {
    "collapsed": true
   },
   "outputs": [],
   "source": [
    "class Node(object):\n",
    "    \n",
    "    def __init__(self, val):\n",
    "        self.val = val\n",
    "        self.left = None\n",
    "        self.right = None\n",
    "\n",
    "def trim_bst(tree, min_val, max_val):\n",
    "    \n",
    "    if not tree:\n",
    "        return\n",
    "    \n",
    "    vals = []\n",
    "    traverse(tree, vals)\n",
    "    \n",
    "    right_vals = []\n",
    "    for val in vals:\n",
    "        if min_val <= val <= max_val:\n",
    "            right_vals.append(val)\n",
    "            \n",
    "    return build_bst(right_vals)\n",
    "\n",
    "def traverse(node, vals):\n",
    "    if node == None:\n",
    "        return\n",
    "    traverse(node.left, vals)\n",
    "    vals.append(node.val)\n",
    "    traverse(node.right, vals)\n",
    "\n",
    "def build_bst(vals):\n",
    "    return _build_bst(vals, 0, len(vals) - 1)\n",
    "    \n",
    "def _build_bst(vals, left, right):\n",
    "    if left == right:\n",
    "        return Node(vals[left])\n",
    "    if left > right:\n",
    "        return None\n",
    "    mid = (left + right) // 2\n",
    "    root = Node(vals[mid])\n",
    "    root.left = _build_bst(vals, left, mid - 1)\n",
    "    root.right = _build_bst(vals, mid + 1, right)\n",
    "    return root"
   ]
  },
  {
   "cell_type": "code",
   "execution_count": 42,
   "metadata": {
    "collapsed": true
   },
   "outputs": [],
   "source": [
    "root = Node(8)\n",
    "root.left = Node(3)\n",
    "root.left.left = Node(1)\n",
    "root.left.right = Node(6)\n",
    "root.left.right.left = Node(4)\n",
    "root.left.right.right = Node(7)\n",
    "root.right = Node(10)\n",
    "root.right.right = Node(14)\n",
    "root.right.right.left = Node(13)"
   ]
  },
  {
   "cell_type": "code",
   "execution_count": 43,
   "metadata": {
    "collapsed": false
   },
   "outputs": [],
   "source": [
    "trimed = trim_bst(root, 5, 13)"
   ]
  },
  {
   "cell_type": "code",
   "execution_count": 44,
   "metadata": {
    "collapsed": true
   },
   "outputs": [],
   "source": [
    "from queue import Queue\n",
    "\n",
    "def level_order_print(tree):\n",
    "    if tree == None:\n",
    "        return\n",
    "    \n",
    "    q = Queue()\n",
    "    q.put(tree)\n",
    "    \n",
    "    while not q.empty():\n",
    "        size = q.qsize()\n",
    "        i = 0\n",
    "        while i < size:\n",
    "            node = q.get()\n",
    "            print(node.val, end=' ')\n",
    "            if node.left != None:\n",
    "                q.put(node.left)\n",
    "            if node.right != None:\n",
    "                q.put(node.right)\n",
    "            i += 1\n",
    "        print(\"\\n\")"
   ]
  },
  {
   "cell_type": "code",
   "execution_count": 45,
   "metadata": {
    "collapsed": false
   },
   "outputs": [
    {
     "name": "stdout",
     "output_type": "stream",
     "text": [
      "8 \n",
      "\n",
      "6 10 \n",
      "\n",
      "7 13 \n",
      "\n"
     ]
    }
   ],
   "source": [
    "level_order_print(trimed)"
   ]
  },
  {
   "cell_type": "code",
   "execution_count": 49,
   "metadata": {
    "collapsed": true
   },
   "outputs": [],
   "source": [
    "def trim_bst2(tree, min_val, max_val):\n",
    "    \n",
    "    if not tree:\n",
    "        return\n",
    "    \n",
    "    tree.left = trim_bst2(tree.left, min_val, max_val)\n",
    "    tree.right = trim_bst2(tree.right, min_val, max_val)\n",
    "    \n",
    "    if min_val <= tree.val <= max_val:\n",
    "        return tree\n",
    "    \n",
    "    if tree.val < min_val:\n",
    "        return tree.right\n",
    "    \n",
    "    if tree.val > max_val:\n",
    "        return tree.left"
   ]
  },
  {
   "cell_type": "code",
   "execution_count": 50,
   "metadata": {
    "collapsed": false
   },
   "outputs": [
    {
     "name": "stdout",
     "output_type": "stream",
     "text": [
      "8 \n",
      "\n",
      "6 10 \n",
      "\n",
      "7 13 \n",
      "\n"
     ]
    }
   ],
   "source": [
    "level_order_print(trim_bst2(root, 5, 13))"
   ]
  },
  {
   "cell_type": "code",
   "execution_count": null,
   "metadata": {
    "collapsed": true
   },
   "outputs": [],
   "source": []
  }
 ],
 "metadata": {
  "kernelspec": {
   "display_name": "Python [default]",
   "language": "python",
   "name": "python3"
  },
  "language_info": {
   "codemirror_mode": {
    "name": "ipython",
    "version": 3
   },
   "file_extension": ".py",
   "mimetype": "text/x-python",
   "name": "python",
   "nbconvert_exporter": "python",
   "pygments_lexer": "ipython3",
   "version": "3.5.2"
  }
 },
 "nbformat": 4,
 "nbformat_minor": 1
}
