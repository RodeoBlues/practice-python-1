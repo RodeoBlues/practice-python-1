{
 "cells": [
  {
   "cell_type": "markdown",
   "metadata": {
    "collapsed": true
   },
   "source": [
    "# Binary Heap Implementation\n",
    "Here is the reference code for the Binary Heap Implementation. Make sure to refer to the video lecture for the full explanation!\n",
    "\n",
    "\n",
    "### Binary Heap Operations\n",
    "* BinaryHeap() creates a new, empty, binary heap.\n",
    "* insert(k) adds a new item to the heap.\n",
    "* findMin() returns the item with the minimum key value, leaving item in the heap.\n",
    "* delMin() returns the item with the minimum key value, removing the item from the heap.\n",
    "* isEmpty() returns true if the heap is empty, false otherwise.\n",
    "* size() returns the number of items in the heap.\n",
    "* buildHeap(list) builds a new heap from a list of keys."
   ]
  },
  {
   "cell_type": "code",
   "execution_count": null,
   "metadata": {
    "collapsed": true
   },
   "outputs": [],
   "source": [
    "class BinHeap(object):\n",
    "    def __init__(self):\n",
    "        self.heap_list = [0]\n",
    "        self.current_size = 0\n",
    "        \n",
    "    def perc_up(self, i):\n",
    "        while i // 2 > 0:\n",
    "            if self.heap_list[i] < self.heap_list[i // 2]:\n",
    "                tmp = self.heap_list[i // 2]\n",
    "                self.heap_list[i // 2] = self.heap_list[i]\n",
    "                self.heap_list[i] = tmp\n",
    "            i = i // 2\n",
    "            \n",
    "    def insert(self, k):\n",
    "        self.heap_list.append(k)\n",
    "        self.current_size += 1\n",
    "        self.perc_up(self.current_size)\n",
    "        \n",
    "    def perc_down(self, i):\n",
    "        while (i * 2) <= self.current_size:\n",
    "            mc = self.min_child(i)\n",
    "            if self.heap_list[i] > self.heap_list[mc]:\n",
    "                tmp = self.heap_list[i]\n",
    "                self.heap_list[i] = self.heap_list[mc]\n",
    "                self.heap_list[mc] = tmp\n",
    "            i = mc\n",
    "            \n",
    "    def min_child(self, i):\n",
    "        if i * 2 + 1 > self.current_size:\n",
    "            return i * 2\n",
    "        else:\n",
    "            if self.heap_list[i * 2] < self.heap_list[i * 2 + 1]:\n",
    "                return i * 2\n",
    "            else:\n",
    "                return i * 2 + 1\n",
    "            \n",
    "    def del_min(self):\n",
    "        retval = self.heap_list[1]\n",
    "        self.heap_list[1] = self.heap_list[self.current_size]\n",
    "        self.current_size = self.current_size - 1\n",
    "        self.heap_list.pop()\n",
    "        self.perc_down(1)\n",
    "        return retval\n",
    "    \n",
    "    def build_heap(self, lst):\n",
    "        i = len(lst) // 2\n",
    "        self.current_size = len(lst)\n",
    "        self.heap_list = [0] + lst[:]\n",
    "        while i > 0:\n",
    "            self.perc_down(i)\n",
    "            i -= 1"
   ]
  }
 ],
 "metadata": {
  "anaconda-cloud": {},
  "kernelspec": {
   "display_name": "Python [default]",
   "language": "python",
   "name": "python3"
  },
  "language_info": {
   "codemirror_mode": {
    "name": "ipython",
    "version": 3
   },
   "file_extension": ".py",
   "mimetype": "text/x-python",
   "name": "python",
   "nbconvert_exporter": "python",
   "pygments_lexer": "ipython3",
   "version": "3.5.2"
  }
 },
 "nbformat": 4,
 "nbformat_minor": 1
}
