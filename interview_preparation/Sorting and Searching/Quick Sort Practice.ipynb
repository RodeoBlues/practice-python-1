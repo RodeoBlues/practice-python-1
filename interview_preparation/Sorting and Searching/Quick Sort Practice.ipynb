{
 "cells": [
  {
   "cell_type": "code",
   "execution_count": 14,
   "metadata": {
    "collapsed": true
   },
   "outputs": [],
   "source": [
    "def quicksort(arr):\n",
    "    if len(arr) <= 1:\n",
    "        return\n",
    "    _quicksort(arr, 0, len(arr) - 1)\n",
    "    \n",
    "\n",
    "def _quicksort(arr, first, last):\n",
    "    if first >= last:\n",
    "        return\n",
    "    \n",
    "    mid = (first + last) // 2\n",
    "    pivot = arr[mid]\n",
    "    \n",
    "    index = partition(arr, first, last, pivot)\n",
    "    \n",
    "    _quicksort(arr, first, index - 1)\n",
    "    _quicksort(arr, index + 1, last)\n",
    "    \n",
    "\n",
    "def partition(arr, first, last, pivot):\n",
    "    \n",
    "    while first <= last:\n",
    "        while arr[first] < pivot:\n",
    "            first += 1\n",
    "            \n",
    "        while arr[last] > pivot:\n",
    "            last -= 1\n",
    "            \n",
    "        if first <= last:\n",
    "            tmp = arr[first]\n",
    "            arr[first] = arr[last]\n",
    "            arr[last] = tmp\n",
    "            first += 1\n",
    "            last -= 1\n",
    "            \n",
    "    return first"
   ]
  },
  {
   "cell_type": "code",
   "execution_count": 15,
   "metadata": {
    "collapsed": false
   },
   "outputs": [],
   "source": [
    "arr = [15, 3, 2, 1, 9, 5, 7, 8, 6]\n",
    "quicksort(arr)"
   ]
  },
  {
   "cell_type": "code",
   "execution_count": 16,
   "metadata": {
    "collapsed": false
   },
   "outputs": [
    {
     "data": {
      "text/plain": [
       "[1, 3, 2, 5, 7, 6, 8, 9, 15]"
      ]
     },
     "execution_count": 16,
     "metadata": {},
     "output_type": "execute_result"
    }
   ],
   "source": [
    "arr"
   ]
  },
  {
   "cell_type": "code",
   "execution_count": null,
   "metadata": {
    "collapsed": true
   },
   "outputs": [],
   "source": []
  }
 ],
 "metadata": {
  "anaconda-cloud": {},
  "kernelspec": {
   "display_name": "Python [default]",
   "language": "python",
   "name": "python3"
  },
  "language_info": {
   "codemirror_mode": {
    "name": "ipython",
    "version": 3
   },
   "file_extension": ".py",
   "mimetype": "text/x-python",
   "name": "python",
   "nbconvert_exporter": "python",
   "pygments_lexer": "ipython3",
   "version": "3.5.2"
  }
 },
 "nbformat": 4,
 "nbformat_minor": 1
}
