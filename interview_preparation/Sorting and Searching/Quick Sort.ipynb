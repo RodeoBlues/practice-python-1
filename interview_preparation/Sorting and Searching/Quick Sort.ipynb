{
 "cells": [
  {
   "cell_type": "code",
   "execution_count": 5,
   "metadata": {
    "collapsed": true
   },
   "outputs": [],
   "source": [
    "def quicksort(arr):\n",
    "    _quicksort(arr, 0, len(arr) - 1)\n",
    "    \n",
    "def _quicksort(arr, left, right):\n",
    "    if left >= right:\n",
    "        return\n",
    "    \n",
    "    mid = (left + right) // 2\n",
    "    pivot = arr[mid]\n",
    "    index = partition(arr, left, right, pivot)\n",
    "    \n",
    "    _quicksort(arr, left, index - 1)\n",
    "    _quicksort(arr, index, right)\n",
    "    \n",
    "def partition(arr, left, right, pivot):\n",
    "    while left <= right:\n",
    "        while arr[left] < pivot:\n",
    "            left += 1\n",
    "        \n",
    "        while arr[right] > pivot:\n",
    "            right -= 1\n",
    "        \n",
    "        if left <= right:\n",
    "            tmp = arr[left]\n",
    "            arr[left] = arr[right]\n",
    "            arr[right] = tmp\n",
    "            left += 1\n",
    "            right -= 1\n",
    "    \n",
    "    return left\n",
    "            "
   ]
  },
  {
   "cell_type": "code",
   "execution_count": 6,
   "metadata": {
    "collapsed": false
   },
   "outputs": [
    {
     "data": {
      "text/plain": [
       "[1, 2, 3, 5, 6, 7, 8, 9, 15]"
      ]
     },
     "execution_count": 6,
     "metadata": {},
     "output_type": "execute_result"
    }
   ],
   "source": [
    "arr = [15, 3, 2, 1, 9, 5, 7, 8, 6]\n",
    "quicksort(arr)\n",
    "arr"
   ]
  },
  {
   "cell_type": "code",
   "execution_count": null,
   "metadata": {
    "collapsed": true
   },
   "outputs": [],
   "source": []
  }
 ],
 "metadata": {
  "anaconda-cloud": {},
  "kernelspec": {
   "display_name": "Python [default]",
   "language": "python",
   "name": "python3"
  },
  "language_info": {
   "codemirror_mode": {
    "name": "ipython",
    "version": 3
   },
   "file_extension": ".py",
   "mimetype": "text/x-python",
   "name": "python",
   "nbconvert_exporter": "python",
   "pygments_lexer": "ipython3",
   "version": "3.5.2"
  }
 },
 "nbformat": 4,
 "nbformat_minor": 1
}
