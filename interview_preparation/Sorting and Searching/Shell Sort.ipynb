{
 "cells": [
  {
   "cell_type": "code",
   "execution_count": 5,
   "metadata": {
    "collapsed": true
   },
   "outputs": [],
   "source": [
    "def shell_sort(arr):\n",
    "    sublist_count = len(arr) // 2\n",
    "    \n",
    "    while sublist_count > 0:\n",
    "        for start in range(sublist_count):\n",
    "            gap_insertion_sort(arr, start, sublist_count)\n",
    "            \n",
    "        sublist_count = sublist_count // 2\n",
    "        \n",
    "\n"
   ]
  },
  {
   "cell_type": "code",
   "execution_count": 6,
   "metadata": {
    "collapsed": true
   },
   "outputs": [],
   "source": [
    "def gap_insertion_sort(arr, start, gap):\n",
    "    \n",
    "    for i in range(start + gap, len(arr), gap):\n",
    "        \n",
    "        curr_val = arr[i]\n",
    "        pos = i\n",
    "        \n",
    "        while pos >= gap and curr_val < arr[pos - gap]:\n",
    "            arr[pos] = arr[pos - gap]\n",
    "            pos -= gap\n",
    "            \n",
    "        arr[pos] = curr_val"
   ]
  },
  {
   "cell_type": "code",
   "execution_count": 7,
   "metadata": {
    "collapsed": true
   },
   "outputs": [],
   "source": [
    "arr = [45, 67, 23, 45, 21, 24, 7, 2, 64, 90]\n",
    "shell_sort(arr)"
   ]
  },
  {
   "cell_type": "code",
   "execution_count": 8,
   "metadata": {
    "collapsed": false
   },
   "outputs": [
    {
     "data": {
      "text/plain": [
       "[2, 7, 21, 23, 24, 45, 45, 64, 67, 90]"
      ]
     },
     "execution_count": 8,
     "metadata": {},
     "output_type": "execute_result"
    }
   ],
   "source": [
    "arr"
   ]
  },
  {
   "cell_type": "code",
   "execution_count": null,
   "metadata": {
    "collapsed": true
   },
   "outputs": [],
   "source": []
  }
 ],
 "metadata": {
  "anaconda-cloud": {},
  "kernelspec": {
   "display_name": "Python [default]",
   "language": "python",
   "name": "python3"
  },
  "language_info": {
   "codemirror_mode": {
    "name": "ipython",
    "version": 3
   },
   "file_extension": ".py",
   "mimetype": "text/x-python",
   "name": "python",
   "nbconvert_exporter": "python",
   "pygments_lexer": "ipython3",
   "version": "3.5.2"
  }
 },
 "nbformat": 4,
 "nbformat_minor": 1
}
